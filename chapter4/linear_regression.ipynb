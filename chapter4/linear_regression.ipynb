{
 "cells": [
  {
   "cell_type": "code",
   "execution_count": 678,
   "metadata": {},
   "outputs": [],
   "source": [
    "import numpy as np\n",
    "\n",
    "from matplotlib  import pyplot as plt\n",
    "\n",
    "from sklearn.pipeline import Pipeline \n",
    "from sklearn.linear_model import SGDRegressor, Ridge, Lasso, ElasticNet\n",
    "from sklearn.preprocessing import PolynomialFeatures, StandardScaler\n",
    "from sklearn.metrics import mean_squared_error\n",
    "from sklearn.model_selection import train_test_split\n",
    "from sklearn.linear_model import LinearRegression\n",
    "from sklearn.base import clone"
   ]
  },
  {
   "cell_type": "code",
   "execution_count": 679,
   "metadata": {},
   "outputs": [
    {
     "data": {
      "text/plain": [
       "(100, 1)"
      ]
     },
     "execution_count": 679,
     "metadata": {},
     "output_type": "execute_result"
    }
   ],
   "source": [
    "X = 2 * np.random.rand(100, 1)\n",
    "y = 4 + 3 * X + np.random.randn(100, 1)\n",
    "\n",
    "\n",
    "y.shape"
   ]
  },
  {
   "cell_type": "code",
   "execution_count": 680,
   "metadata": {},
   "outputs": [
    {
     "data": {
      "text/plain": [
       "<function matplotlib.pyplot.show(close=None, block=None)>"
      ]
     },
     "execution_count": 680,
     "metadata": {},
     "output_type": "execute_result"
    },
    {
     "data": {
      "image/png": "[encoded data removed]",
      "text/plain": [
       "<Figure size 640x480 with 1 Axes>"
      ]
     },
     "metadata": {},
     "output_type": "display_data"
    }
   ],
   "source": [
    "plt.plot(X, y, \"b.\")\n",
    "plt.ylabel('y')\n",
    "plt.xlabel('X')\n",
    "plt.show"
   ]
  },
  {
   "cell_type": "code",
   "execution_count": 681,
   "metadata": {},
   "outputs": [
    {
     "data": {
      "text/plain": [
       "array([[3.92368123],\n",
       "       [2.9694292 ]])"
      ]
     },
     "execution_count": 681,
     "metadata": {},
     "output_type": "execute_result"
    }
   ],
   "source": [
    "X_b = np.c_[np.ones((100, 1)), X]\n",
    "# print(X_b.shape)\n",
    "# print(X_b)\n",
    "theta_best = np.linalg.inv(X_b.T.dot(X_b)).dot(X_b.T).dot(y)\n",
    "theta_best"
   ]
  },
  {
   "cell_type": "code",
   "execution_count": 682,
   "metadata": {},
   "outputs": [
    {
     "name": "stdout",
     "output_type": "stream",
     "text": [
      "[[1. 0.]\n",
      " [1. 2.]]\n"
     ]
    },
    {
     "data": {
      "text/plain": [
       "array([[3.92368123],\n",
       "       [9.86253963]])"
      ]
     },
     "execution_count": 682,
     "metadata": {},
     "output_type": "execute_result"
    }
   ],
   "source": [
    "# predicting\n",
    "X_new = np.array([[0, 2]]).T\n",
    "\n",
    "# print(X_new)\n",
    "X_new_b = np.c_[np.ones((2, 1)), X_new]\n",
    "print(X_new_b)\n",
    "y_predict = X_new_b.dot(theta_best) \n",
    "y_predict"
   ]
  },
  {
   "cell_type": "code",
   "execution_count": 683,
   "metadata": {},
   "outputs": [
    {
     "data": {
      "image/png": "[encoded data removed]",
      "text/plain": [
       "<Figure size 640x480 with 1 Axes>"
      ]
     },
     "metadata": {},
     "output_type": "display_data"
    }
   ],
   "source": [
    "plt.plot(X_new, y_predict, \"r-\")\n",
    "plt.plot(X, y, \"b.\")\n",
    "plt.axis([0, 2, 0, 15])\n",
    "plt.show()"
   ]
  },
  {
   "cell_type": "markdown",
   "metadata": {},
   "source": [
    "#### using scikit-learn"
   ]
  },
  {
   "cell_type": "code",
   "execution_count": 684,
   "metadata": {},
   "outputs": [
    {
     "data": {
      "text/plain": [
       "(array([3.92368123]), array([[2.9694292]]))"
      ]
     },
     "execution_count": 684,
     "metadata": {},
     "output_type": "execute_result"
    }
   ],
   "source": [
    "lin_req = LinearRegression()\n",
    "lin_req.fit(X=X, y=y)\n",
    "\n",
    "lin_req.intercept_, lin_req.coef_"
   ]
  },
  {
   "cell_type": "code",
   "execution_count": 685,
   "metadata": {},
   "outputs": [
    {
     "data": {
      "text/plain": [
       "array([[3.92368123],\n",
       "       [9.86253963]])"
      ]
     },
     "execution_count": 685,
     "metadata": {},
     "output_type": "execute_result"
    }
   ],
   "source": [
    "\n",
    "lin_req.predict(X_new)"
   ]
  },
  {
   "cell_type": "code",
   "execution_count": 686,
   "metadata": {},
   "outputs": [
    {
     "data": {
      "text/plain": [
       "array([[3.92368123],\n",
       "       [2.9694292 ]])"
      ]
     },
     "execution_count": 686,
     "metadata": {},
     "output_type": "execute_result"
    }
   ],
   "source": [
    "#  The LinearRegression class is based on the scipy.linalg.lstsq() function (the\n",
    "#  name stands for “least squares”), which you could call directly:\n",
    "\n",
    "theta_best_svd, residuals, rank, s = np.linalg.lstsq(X_b, y, rcond=1e-6)\n",
    "theta_best_svd"
   ]
  },
  {
   "cell_type": "code",
   "execution_count": 687,
   "metadata": {},
   "outputs": [
    {
     "data": {
      "text/plain": [
       "array([[3.92368123],\n",
       "       [2.9694292 ]])"
      ]
     },
     "execution_count": 687,
     "metadata": {},
     "output_type": "execute_result"
    }
   ],
   "source": [
    "# using the pseudoinverse (Moore-Penrose) method\n",
    "\n",
    "theta_best_pseu =  np.linalg.pinv(X_b).dot(y)\n",
    "theta_best_pseu\n",
    "\n",
    "# The pseudoinverse itself is computed using a standard matrix factorization technique\n",
    "#  called Singular Value Decomposition (SVD) that can decompose the training set\n",
    "#  matrix X into the matrix multiplication of three matrices U Σ V⊺ (see\n",
    "#  Σ+\n",
    "#  numpy.linalg.svd()). The pseudoinverse is computed as X+ = VΣ+U⊺. To compute\n",
    "#  the matrix \n",
    "# , the algorithm takes Σ and sets to zero all values smaller than a tiny\n",
    "#  threshold value, then it replaces all the nonzero values with their inverse, and finally\n",
    "#  it transposes the resulting matrix. This approach is more efficient than computing the\n",
    "#  Normal Equation, plus it handles edge cases nicely: indeed, the Normal Equation may\n",
    "#  not work if the matrix X⊺X is not invertible (i.e., singular), such as if m < n or if some\n",
    "#  features are redundant, but the pseudoinverse is always defined."
   ]
  },
  {
   "cell_type": "markdown",
   "metadata": {},
   "source": [
    "##### Batch Gradient Descent"
   ]
  },
  {
   "cell_type": "code",
   "execution_count": 688,
   "metadata": {},
   "outputs": [],
   "source": [
    "eta = 0.1\n",
    "\n",
    "n_iterations = 1000\n",
    "m = 100\n",
    "\n",
    "theta = np.random.randn(2, 1) # random initialization\n",
    "\n",
    "for iteration in range(n_iterations):\n",
    "    gradients = 2/m * X_b.T.dot(X_b.dot(theta) - y)\n",
    "    theta = theta - eta* gradients"
   ]
  },
  {
   "cell_type": "code",
   "execution_count": 689,
   "metadata": {},
   "outputs": [
    {
     "data": {
      "text/plain": [
       "array([[3.92368123],\n",
       "       [2.9694292 ]])"
      ]
     },
     "execution_count": 689,
     "metadata": {},
     "output_type": "execute_result"
    }
   ],
   "source": [
    "theta\n",
    "\n",
    "# that’s exactly what the Normal Equation found! Gradient Descent worked per\n",
    "# fectly. But what if you had used a different learning rate eta?"
   ]
  },
  {
   "cell_type": "markdown",
   "metadata": {},
   "source": [
    "##### Stochastic Gradient Descent"
   ]
  },
  {
   "cell_type": "markdown",
   "metadata": {},
   "source": [
    " The main problem with Batch Gradient Descent is the fact that it uses the whole\n",
    " training set to compute the gradients at every step, which makes it very slow when\n",
    " the training set is large. At the opposite extreme, Stochastic Gradient Descent picks a\n",
    " random instance in the training set at every step and computes the gradients based\n",
    " only on that single instance."
   ]
  },
  {
   "cell_type": "markdown",
   "metadata": {},
   "source": [
    " On the other hand, due to its stochastic (i.e., random) nature, this algorithm is much\n",
    " less regular than Batch Gradient Descent: instead of gently decreasing until it reaches\n",
    " the minimum, the cost function will bounce up and down, decreasing only on aver\n",
    "age. Over time it will end up very close to the minimum, but once it gets there it will\n",
    " continue to bounce around, never settling down"
   ]
  },
  {
   "cell_type": "markdown",
   "metadata": {},
   "source": [
    "On the other hand.. When the cost function is very irregular (as in Figure 4-6), this can actually help the\n",
    " algorithm jump out of local minima, so Stochastic Gradient Descent has a better\n",
    " chance of finding the global minimum than Batch Gradient Descent does."
   ]
  },
  {
   "cell_type": "markdown",
   "metadata": {},
   "source": [
    " Therefore, randomness is good to escape from local optima, but bad because it means\n",
    " that the algorithm can never settle at the minimum. One solution to this dilemma is\n",
    " to gradually reduce the learning rate. "
   ]
  },
  {
   "cell_type": "code",
   "execution_count": 690,
   "metadata": {},
   "outputs": [
    {
     "data": {
      "text/plain": [
       "array([[3.95338472],\n",
       "       [2.96449053]])"
      ]
     },
     "execution_count": 690,
     "metadata": {},
     "output_type": "execute_result"
    }
   ],
   "source": [
    "n_epochs = 50\n",
    "t0, t1 = 5, 50  # learning rate hyperparameters\n",
    "\n",
    "\n",
    "def learning_schedule(t):\n",
    "    return t0 / (t + t1)\n",
    "\n",
    "\n",
    "theta = np.random.randn(2, 1)  # randome initialization\n",
    "\n",
    "for epoch in range(n_epochs):\n",
    "    for i in range(m):\n",
    "        random_index = np.random.randint(m)\n",
    "        xi = X_b[random_index: random_index+1]\n",
    "        yi = y[random_index: random_index+1]\n",
    "        gradients = 2 * xi.T.dot(xi.dot(theta) - yi)\n",
    "        eta = learning_schedule(epoch*m+i)\n",
    "        theta = theta - eta * gradients\n",
    "\n",
    "theta\n",
    "\n",
    "\n",
    "# While the Batch Gradient Descent code iterated 1,000 times through the whole train\n",
    "# ing set, this code goes through the training set only 50 times and reaches a pretty\n",
    "#  good solution"
   ]
  },
  {
   "cell_type": "code",
   "execution_count": 691,
   "metadata": {},
   "outputs": [
    {
     "data": {
      "text/plain": [
       "(array([3.93904167]), array([2.98249941]))"
      ]
     },
     "execution_count": 691,
     "metadata": {},
     "output_type": "execute_result"
    }
   ],
   "source": [
    "# on using scikit-learn\n",
    "\n",
    "sgd_reg = SGDRegressor(max_iter=1000, tol=1e-3, penalty=None, eta0=0.1)\n",
    "sgd_reg.fit(X, y.ravel())\n",
    "sgd_reg.intercept_, sgd_reg.coef_"
   ]
  },
  {
   "cell_type": "markdown",
   "metadata": {},
   "source": [
    "##### Mini-batch Gradient Descent"
   ]
  },
  {
   "cell_type": "markdown",
   "metadata": {},
   "source": [
    " The last Gradient Descent algorithm we will look at is called Mini-batch Gradient\n",
    " Descent. It is simple to understand once you know Batch and Stochastic Gradient\n",
    " Descent: at each step, instead of computing the gradients based on the full training set\n",
    " (as in Batch GD) or based on just one instance (as in Stochastic GD), Mini-batch GD\n",
    " computes the gradients on small random sets of instances called mini-batches. The\n",
    " main advantage of Mini-batch GD over Stochastic GD is that you can get a performance boost from hardware optimization of matrix operations, especially when using\n",
    " GPUs. Lets end it here for the Gradient Descents"
   ]
  },
  {
   "cell_type": "markdown",
   "metadata": {},
   "source": [
    "#### Polynomial Regression"
   ]
  },
  {
   "cell_type": "markdown",
   "metadata": {},
   "source": [
    "What if your data is more complex than a straight line? Surprisingly, you can use a\n",
    " linear model to fit nonlinear data. A simple way to do this is to add powers of each\n",
    " feature as new features, then train a linear model on this extended set of features. This\n",
    " technique is called Polynomial Regression."
   ]
  },
  {
   "cell_type": "code",
   "execution_count": 692,
   "metadata": {},
   "outputs": [],
   "source": [
    "m = 100\n",
    "# generating random polynomial data\n",
    "X = 6 * np.random.rand(m, 1) - 3 # X ranges from -3 to 3\n",
    "y = 0.5 * X**2 + X + 2 + np.random.randn(m, 1)"
   ]
  },
  {
   "cell_type": "code",
   "execution_count": 693,
   "metadata": {},
   "outputs": [
    {
     "data": {
      "image/png": "[encoded data removed]",
      "text/plain": [
       "<Figure size 640x480 with 1 Axes>"
      ]
     },
     "metadata": {},
     "output_type": "display_data"
    }
   ],
   "source": [
    "def plot_data(x, y):\n",
    "    plt.plot(X, y, \"b.\")\n",
    "    plt.ylabel('y')\n",
    "    plt.xlabel('x1')\n",
    "\n",
    "\n",
    "plot_data(X, y)"
   ]
  },
  {
   "cell_type": "code",
   "execution_count": 694,
   "metadata": {},
   "outputs": [
    {
     "name": "stdout",
     "output_type": "stream",
     "text": [
      "[-1.77308361]\n",
      "[-1.90696617  3.63651996]\n"
     ]
    }
   ],
   "source": [
    "poly_features = PolynomialFeatures(degree=2, include_bias=False)\n",
    "X_poly = poly_features.fit_transform(X)\n",
    "\n",
    "print(X[3])\n",
    "print(X_poly[0])\n",
    "\n",
    "#  X_poly now contains the original feature of X plus the square of this feature. Now you\n",
    "#  can fit a LinearRegression model to this extended training data"
   ]
  },
  {
   "cell_type": "code",
   "execution_count": 695,
   "metadata": {},
   "outputs": [
    {
     "name": "stdout",
     "output_type": "stream",
     "text": [
      "[2.18155425]\n",
      "[[1.02210153 0.44708807]]\n"
     ]
    }
   ],
   "source": [
    "lin_req = LinearRegression()\n",
    "lin_req.fit(X_poly, y)\n",
    "\n",
    "print(lin_req.intercept_)\n",
    "print(lin_req.coef_)\n",
    "\n",
    "\n",
    "#  y = 0.5x^2 + 1.0x + 2.0 + Gaussian noise\n",
    "# predicted -> y = 0.48x^2 + 1.05x + 1.9 \n",
    "# which is close."
   ]
  },
  {
   "cell_type": "code",
   "execution_count": 696,
   "metadata": {},
   "outputs": [
    {
     "data": {
      "text/plain": [
       "[<matplotlib.lines.Line2D at 0x276c71a70e0>]"
      ]
     },
     "execution_count": 696,
     "metadata": {},
     "output_type": "execute_result"
    },
    {
     "data": {
      "image/png": "[encoded data removed]",
      "text/plain": [
       "<Figure size 640x480 with 1 Axes>"
      ]
     },
     "metadata": {},
     "output_type": "display_data"
    }
   ],
   "source": [
    "plt.plot(X, y, \"b.\")\n",
    "\n",
    "plt.ylabel('y')\n",
    "plt.xlabel('x1')\n",
    "\n",
    "y_poly_predict = []\n",
    "# val = X_b[1]\n",
    "# print(val)\n",
    "# lin_req.predict([val])\n",
    "for index in range(len(X_b)):\n",
    "    predict = lin_req.predict([[X[index][0], (X[index][0])**2]])\n",
    "    y_poly_predict.append(predict[0][0])\n",
    "    # print(predict[0][0])\n",
    "\n",
    "\n",
    "\n",
    "\n",
    "\n",
    "plt.plot(X, y_poly_predict, \"r*\")"
   ]
  },
  {
   "cell_type": "markdown",
   "metadata": {},
   "source": [
    "##### Learning Curves"
   ]
  },
  {
   "cell_type": "markdown",
   "metadata": {},
   "source": [
    " If you perform high-degree Polynomial Regression, you will likely fit the training\n",
    " data much better than with plain Linear Regression. However, its likely that higher-degree polynomial can overfit. "
   ]
  },
  {
   "cell_type": "code",
   "execution_count": 697,
   "metadata": {},
   "outputs": [],
   "source": [
    "def plot_learning_curves(model, X, y):\n",
    "    X_train, X_val, y_train, y_val =  train_test_split(X, y, test_size=0.2)\n",
    "    train_errors, val_errors = [], []\n",
    "    for m in range(1, len(X_train)):\n",
    "        # print(m)\n",
    "        model.fit(X_train[:m], y_train[:m])\n",
    "        y_train_predict = model.predict(X_train[:m])\n",
    "        y_val_predict = model.predict(X_val)\n",
    "        train_errors.append(mean_squared_error(y_train[:m], y_train_predict))\n",
    "        val_errors.append(mean_squared_error(y_val, y_val_predict))\n",
    "    \n",
    "    plt.plot(np.sqrt(train_errors), \"r-+\", linewidth=2, label=\"train\")\n",
    "    plt.plot(np.sqrt(val_errors), \"b-\", linewidth=3, label=\"val\")\n",
    "    plt.ylabel(\"RMSE\")\n",
    "    plt.xlabel(\"Training set size\")"
   ]
  },
  {
   "cell_type": "code",
   "execution_count": 698,
   "metadata": {},
   "outputs": [
    {
     "data": {
      "image/png": "[encoded data removed]",
      "text/plain": [
       "<Figure size 640x480 with 1 Axes>"
      ]
     },
     "metadata": {},
     "output_type": "display_data"
    }
   ],
   "source": [
    "lin_req = LinearRegression()\n",
    "plot_learning_curves(lin_req, X, y)\n",
    "\n",
    "\n",
    "# First, let’s look at the performance on the training data: when there are just one or two instances in the training set, the model can fit them perfectly, which is why the curve starts at zero. But as\n",
    "# new instances are added to the training set, it becomes impossible for the model to fit the training data perfectly, both because the data is noisy and because it is not linear\n",
    "# at all. So the error on the training data goes up until it reaches a plateau, at which\n",
    "#  point adding new instances to the training set doesn’t make the average error much\n",
    "#  better or worse. Now let’s look at the performance of the model on the validation\n",
    "#  data. When the model is trained on very few training instances, it is incapable of gen\n",
    "# eralizing properly, which is why the validation error is initially quite big.\n",
    "# Then, as the model is shown more training examples, it learns, and thus the validation error\n",
    "#  slowly goes down. However, once again a straight line cannot do a good job modeling\n",
    "#  the data, so the error ends up at a plateau, very close to the other curve."
   ]
  },
  {
   "cell_type": "code",
   "execution_count": 699,
   "metadata": {},
   "outputs": [
    {
     "data": {
      "image/png": "[encoded data removed]",
      "text/plain": [
       "<Figure size 640x480 with 1 Axes>"
      ]
     },
     "metadata": {},
     "output_type": "display_data"
    }
   ],
   "source": [
    "polynomial_regression = Pipeline([\n",
    "    (\"poly_features\", PolynomialFeatures(degree=10, include_bias=False)),\n",
    "    (\"lin_req\", LinearRegression())\n",
    "])\n",
    "\n",
    "\n",
    "plot_learning_curves(polynomial_regression, X, y)\n",
    "\n",
    "# These learning curves look a bit like the previous ones, but there are two very impor\n",
    "# tant differences:\n",
    "#  • The error on the training data is much lower than with the Linear Regression\n",
    "#  model.\n",
    "\n",
    "# There is a gap between the curves. This means that the model performs signifi\n",
    "# cantly better on the training data than on the validation data, which is the hall\n",
    "# mark of an overfitting model. If you used a much larger training set, however, the\n",
    "#  two curves would continue to get closer.\n",
    "\n",
    "# One way to improve an overfitting model is to feed it more training\n",
    "#  data until the validation error reaches the training error."
   ]
  },
  {
   "cell_type": "code",
   "execution_count": 700,
   "metadata": {},
   "outputs": [],
   "source": [
    "# An important theoretical result of statistics and Machine Learning is the fact that a\n",
    "# model’s generalization error can be expressed as the sum of three very different errors:\n",
    "# Bias\n",
    "# --------\n",
    "# This part of the generalization error is due to wrong assumptions, such as assuming that the data is linear when it is actually quadratic. A high-bias model is most\n",
    "# likely to underfit the training data\n",
    "\n",
    "# Variance\n",
    "# -------\n",
    "#  This part is due to the model’s excessive sensitivity to small variations in the\n",
    "#  training data. A model with many degrees of freedom (such as a high-degree polynomial model) is likely to have high variance and thus overfit the training data.\n",
    "\n",
    "#  Irreducible error\n",
    "# ------------------\n",
    "#  This part is due to the noisiness of the data itself. The only way to reduce this\n",
    "#  part of the error is to clean up the data (e.g., fix the data sources, such as broken\n",
    "#  sensors, or detect and remove outliers).\n",
    "#  Increasing a model’s complexity will typically increase its variance and reduce its bias.\n",
    "#  Conversely, reducing a model’s complexity increases its bias and reduces its variance.\n",
    "#  This is why it is called a trade-off"
   ]
  },
  {
   "cell_type": "markdown",
   "metadata": {},
   "source": [
    "#### Regularized Linear Models"
   ]
  },
  {
   "cell_type": "markdown",
   "metadata": {},
   "source": [
    " A simple way to regularize a polynomial model is to reducethe number of polynomial degrees"
   ]
  },
  {
   "cell_type": "markdown",
   "metadata": {},
   "source": [
    "For a linear model, regularization is typically achieved by constraining the weights of the model. We now consider the Ridge Regression, Lasso Regression, and Elastic Net,\n",
    "which implement three different ways to constrain the weights."
   ]
  },
  {
   "cell_type": "markdown",
   "metadata": {},
   "source": [
    "##### Ridge Regression"
   ]
  },
  {
   "cell_type": "markdown",
   "metadata": {},
   "source": [
    "This adds ℓ2 norm of the weight vector (regularization term) to the cost function. "
   ]
  },
  {
   "cell_type": "code",
   "execution_count": 701,
   "metadata": {},
   "outputs": [
    {
     "data": {
      "text/plain": [
       "array([[4.7995057]])"
      ]
     },
     "execution_count": 701,
     "metadata": {},
     "output_type": "execute_result"
    }
   ],
   "source": [
    "ridge_ridge = Ridge(alpha=1, solver='cholesky')\n",
    "\n",
    "ridge_ridge.fit(X, y)\n",
    "ridge_ridge.predict([[1.5]])"
   ]
  },
  {
   "cell_type": "code",
   "execution_count": 702,
   "metadata": {},
   "outputs": [
    {
     "data": {
      "text/plain": [
       "array([4.77970734])"
      ]
     },
     "execution_count": 702,
     "metadata": {},
     "output_type": "execute_result"
    }
   ],
   "source": [
    "## using stochastic gradient descent\n",
    "\n",
    "sgd_reg = SGDRegressor(penalty='l2')\n",
    "sgd_reg.fit(X, y.ravel())\n",
    "sgd_reg.predict([[1.5]])\n",
    "\n",
    "\n",
    "# The penalty hyperparameter sets the type of regularization term to use. Specifying\n",
    "#  \"l2\" indicates that you want SGD to add a regularization term to the cost function\n",
    "#  equal to half the square of the ℓ2\n",
    "#  norm of the weight vector: this is simply Ridge\n",
    "#  Regression.\n"
   ]
  },
  {
   "cell_type": "markdown",
   "metadata": {},
   "source": [
    "##### Lasso Regression"
   ]
  },
  {
   "cell_type": "markdown",
   "metadata": {},
   "source": [
    "This adds ℓ1 norm of the weight vector (regularization term) to the cost function. "
   ]
  },
  {
   "cell_type": "code",
   "execution_count": 703,
   "metadata": {},
   "outputs": [
    {
     "data": {
      "text/plain": [
       "array([4.73589025])"
      ]
     },
     "execution_count": 703,
     "metadata": {},
     "output_type": "execute_result"
    }
   ],
   "source": [
    "sgd_reg = Lasso(alpha=0.1)\n",
    "sgd_reg.fit(X, y.ravel())\n",
    "sgd_reg.predict([[1.5]])\n",
    "\n",
    "\n",
    "# you can also use SGDRegressor  with penalty=l1\n"
   ]
  },
  {
   "cell_type": "markdown",
   "metadata": {},
   "source": [
    "##### Elastic Net \n"
   ]
  },
  {
   "cell_type": "markdown",
   "metadata": {},
   "source": [
    " Elastic Net is a middle ground between Ridge Regression and Lasso Regression. The\n",
    " regularization term is a simple mix of both Ridge and Lasso’s regularization terms,\n",
    " and you can control the mix ratio r. When r = 0, Elastic Net is equivalent to Ridge\n",
    " Regression, and when r = 1, it is equivalent to Lasso Regression "
   ]
  },
  {
   "cell_type": "markdown",
   "metadata": {},
   "source": [
    "So when should you use plain Linear Regression (i.e., without any regularization),\n",
    " Ridge, Lasso, or Elastic Net? It is almost always preferable to have at least a little bit of\n",
    " regularization, so generally you should avoid plain Linear Regression. Ridge is a good\n",
    " default, but if you suspect that only a few features are useful, you should prefer Lasso\n",
    " or Elastic Net because they tend to reduce the useless features’ weights down to zero,"
   ]
  },
  {
   "cell_type": "code",
   "execution_count": 704,
   "metadata": {},
   "outputs": [
    {
     "data": {
      "text/plain": [
       "array([4.74020471])"
      ]
     },
     "execution_count": 704,
     "metadata": {},
     "output_type": "execute_result"
    }
   ],
   "source": [
    "elastic_net = ElasticNet(alpha=0.1, l1_ratio=0.5)\n",
    "elastic_net.fit(X, y)\n",
    "elastic_net.predict([[1.5]])"
   ]
  },
  {
   "cell_type": "markdown",
   "metadata": {},
   "source": [
    "#### Early Stopping"
   ]
  },
  {
   "cell_type": "markdown",
   "metadata": {},
   "source": [
    " A very different way to regularize iterative learning algorithms such as Gradient\n",
    " Descent is to stop training as soon as the validation error reaches a minimum. T"
   ]
  },
  {
   "cell_type": "code",
   "execution_count": 705,
   "metadata": {},
   "outputs": [],
   "source": [
    "class AbsoluteVals:\n",
    "    def __init__(self):  # no *args or **kargs\n",
    "        pass\n",
    "\n",
    "    def fit(self, X, y=None):\n",
    "        return self  # nothing else to do\n",
    "\n",
    "    def transform(self, X):\n",
    "        return X.ravel()"
   ]
  },
  {
   "cell_type": "code",
   "execution_count": 706,
   "metadata": {},
   "outputs": [],
   "source": [
    "poly_scaler = Pipeline([\n",
    " (\"poly_features\", PolynomialFeatures(degree=90, include_bias=False)),\n",
    " (\"std_scaler\", StandardScaler()),\n",
    "#  ('abs', AbsoluteVals())\n",
    " ])"
   ]
  },
  {
   "cell_type": "code",
   "execution_count": 707,
   "metadata": {},
   "outputs": [],
   "source": [
    "X_train, X_val, y_train, y_val =  train_test_split(X, y, test_size=0.2)\n",
    "X_train_poly_scaled = poly_scaler.fit_transform(X_train)\n",
    "X_val_poly_scaled = poly_scaler.transform(X_val)"
   ]
  },
  {
   "cell_type": "code",
   "execution_count": 708,
   "metadata": {},
   "outputs": [],
   "source": [
    "# [print(i) for i in X_val_poly_scaled.ravel() if  i <= 0]\n",
    "y_val =  y_val.ravel()\n",
    "y_train = y_train.ravel()"
   ]
  },
  {
   "cell_type": "code",
   "execution_count": 709,
   "metadata": {},
   "outputs": [],
   "source": [
    "sgd_reg = SGDRegressor(max_iter=1, tol=None, warm_start=True,\n",
    " penalty=None, learning_rate=\"constant\", eta0=0.0005)"
   ]
  },
  {
   "cell_type": "code",
   "execution_count": 710,
   "metadata": {},
   "outputs": [],
   "source": [
    "minimum_val_error = float(\"inf\")\n",
    "best_epoch = None\n",
    "best_model = None\n",
    "for epoch in range(1000):\n",
    "    sgd_reg.fit(X_train_poly_scaled, y_train)  # continues where it left off\n",
    "    y_val_predict = sgd_reg.predict(X_val_poly_scaled)\n",
    "    val_error = mean_squared_error(y_val, y_val_predict)\n",
    "    if val_error < minimum_val_error:\n",
    "        minimum_val_error = val_error\n",
    "        best_epoch = epoch\n",
    "        best_model = clone(sgd_reg)"
   ]
  }
 ],
 "metadata": {
  "kernelspec": {
   "display_name": "base",
   "language": "python",
   "name": "python3"
  },
  "language_info": {
   "codemirror_mode": {
    "name": "ipython",
    "version": 3
   },
   "file_extension": ".py",
   "mimetype": "text/x-python",
   "name": "python",
   "nbconvert_exporter": "python",
   "pygments_lexer": "ipython3",
   "version": "3.12.4"
  },
  "orig_nbformat": 4
 },
 "nbformat": 4,
 "nbformat_minor": 2
}
